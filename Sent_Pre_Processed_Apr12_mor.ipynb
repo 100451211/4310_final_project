{
 "cells": [
  {
   "cell_type": "code",
   "execution_count": 6,
   "metadata": {},
   "outputs": [],
   "source": [
    "import pandas as pd\n",
    "from datetime import datetime\n",
    "import numpy as np\n",
    "import seaborn as sns\n",
    "import matplotlib.pyplot as plt\n",
    "from transformers import AutoTokenizer, AutoModelForSequenceClassification, pipeline\n",
    "import torch\n",
    "from sklearn.model_selection import train_test_split\n",
    "from sklearn.preprocessing import LabelEncoder\n",
    "from sklearn.metrics import accuracy_score, classification_report\n",
    "import nltk\n",
    "from nltk.corpus import stopwords\n",
    "from nltk.tokenize import word_tokenize\n",
    "from nltk.stem import WordNetLemmatizer\n",
    "from sklearn.feature_extraction.text import CountVectorizer\n",
    "from sklearn.decomposition import LatentDirichletAllocation\n",
    "import ast"
   ]
  },
  {
   "cell_type": "code",
   "execution_count": 2,
   "metadata": {},
   "outputs": [
    {
     "name": "stderr",
     "output_type": "stream",
     "text": [
      "/var/folders/kx/vwf66kn17s153dgnqfn48k180000gn/T/ipykernel_10064/477583198.py:1: DtypeWarning: Columns (2,7,9,14,15,19,20) have mixed types. Specify dtype option on import or set low_memory=False.\n",
      "  df = pd.read_csv(\"pre_processed.csv\", on_bad_lines='skip')\n"
     ]
    }
   ],
   "source": [
    "df = pd.read_csv(\"pre_processed.csv\", on_bad_lines='skip')\n"
   ]
  },
  {
   "cell_type": "code",
   "execution_count": 3,
   "metadata": {},
   "outputs": [
    {
     "name": "stderr",
     "output_type": "stream",
     "text": [
      "/var/folders/kx/vwf66kn17s153dgnqfn48k180000gn/T/ipykernel_10064/1272664119.py:1: FutureWarning: Setting an item of incompatible dtype is deprecated and will raise an error in a future version of pandas. Value '' has dtype incompatible with float64, please explicitly cast to a compatible dtype first.\n",
      "  df.fillna('', inplace=True)\n"
     ]
    }
   ],
   "source": [
    "df.fillna('', inplace=True)"
   ]
  },
  {
   "cell_type": "code",
   "execution_count": 4,
   "metadata": {},
   "outputs": [],
   "source": [
    "def list_to_sentence(list_str):\n",
    "    word_list = ast.literal_eval(list_str)\n",
    "    return ' '.join(word_list)"
   ]
  },
  {
   "cell_type": "code",
   "execution_count": 7,
   "metadata": {},
   "outputs": [],
   "source": [
    "df['self_text_tokens'] = df['self_text_tokens'].apply(list_to_sentence)"
   ]
  },
  {
   "cell_type": "code",
   "execution_count": 8,
   "metadata": {},
   "outputs": [],
   "source": [
    "df['post_self_text_tokens'] = df['post_self_text_tokens'].apply(list_to_sentence)"
   ]
  },
  {
   "cell_type": "code",
   "execution_count": 9,
   "metadata": {},
   "outputs": [],
   "source": [
    "df['post_title_tokens'] = df['post_title_tokens'].apply(list_to_sentence)"
   ]
  },
  {
   "cell_type": "code",
   "execution_count": 10,
   "metadata": {},
   "outputs": [],
   "source": [
    "df['text'] = df['self_text_tokens'].fillna('') + ' ' + df['post_self_text_tokens'].fillna('') + ' ' + df['post_title_tokens'].fillna('')"
   ]
  },
  {
   "cell_type": "code",
   "execution_count": 11,
   "metadata": {},
   "outputs": [
    {
     "data": {
      "text/plain": [
       "'if only there was armed military force nearby able to keep law and order if only there wa armed military force nearby able to keep law and order nan nan local gaza gangs are robbing displaced palestinians local gaza gang are robbing displaced palestinian'"
      ]
     },
     "execution_count": 11,
     "metadata": {},
     "output_type": "execute_result"
    }
   ],
   "source": [
    "df[\"text\"].iloc[1]"
   ]
  },
  {
   "cell_type": "code",
   "execution_count": 12,
   "metadata": {},
   "outputs": [
    {
     "data": {
      "text/html": [
       "<div>\n",
       "<style scoped>\n",
       "    .dataframe tbody tr th:only-of-type {\n",
       "        vertical-align: middle;\n",
       "    }\n",
       "\n",
       "    .dataframe tbody tr th {\n",
       "        vertical-align: top;\n",
       "    }\n",
       "\n",
       "    .dataframe thead th {\n",
       "        text-align: right;\n",
       "    }\n",
       "</style>\n",
       "<table border=\"1\" class=\"dataframe\">\n",
       "  <thead>\n",
       "    <tr style=\"text-align: right;\">\n",
       "      <th></th>\n",
       "      <th>created_time</th>\n",
       "      <th>comment_id</th>\n",
       "      <th>score</th>\n",
       "      <th>self_text</th>\n",
       "      <th>subreddit</th>\n",
       "      <th>post_id</th>\n",
       "      <th>author_name</th>\n",
       "      <th>controversiality</th>\n",
       "      <th>ups</th>\n",
       "      <th>user_is_verified</th>\n",
       "      <th>...</th>\n",
       "      <th>post_score</th>\n",
       "      <th>post_self_text</th>\n",
       "      <th>post_title</th>\n",
       "      <th>post_upvote_ratio</th>\n",
       "      <th>post_thumbs_ups</th>\n",
       "      <th>post_created_time</th>\n",
       "      <th>post_title_tokens</th>\n",
       "      <th>self_text_tokens</th>\n",
       "      <th>post_self_text_tokens</th>\n",
       "      <th>text</th>\n",
       "    </tr>\n",
       "  </thead>\n",
       "  <tbody>\n",
       "    <tr>\n",
       "      <th>0</th>\n",
       "      <td>2024-03-19 19:18:08</td>\n",
       "      <td>kvmer6g</td>\n",
       "      <td>1</td>\n",
       "      <td>What is this supposed to prove? That nobody in...</td>\n",
       "      <td>IsraelPalestine</td>\n",
       "      <td>1biqebd</td>\n",
       "      <td>tinamnstrrr</td>\n",
       "      <td>0</td>\n",
       "      <td>1.0</td>\n",
       "      <td>True</td>\n",
       "      <td>...</td>\n",
       "      <td>0.0</td>\n",
       "      <td>So, Mr. Netanyahu, and supporters, are you goo...</td>\n",
       "      <td>article: Famine in northern Gaza is imminent a...</td>\n",
       "      <td>0.36</td>\n",
       "      <td>0</td>\n",
       "      <td>2024-03-19 17:48:02</td>\n",
       "      <td>article famine in northern gaza is imminent mo...</td>\n",
       "      <td>is supposed to prove nobody in gaza has any wa...</td>\n",
       "      <td>so netanyahu and supporters are you good with ...</td>\n",
       "      <td>is supposed to prove nobody in gaza has any wa...</td>\n",
       "    </tr>\n",
       "    <tr>\n",
       "      <th>1</th>\n",
       "      <td>2024-03-19 19:17:51</td>\n",
       "      <td>kvmepe5</td>\n",
       "      <td>1</td>\n",
       "      <td>If only there was an armed military force near...</td>\n",
       "      <td>worldnews</td>\n",
       "      <td>1bik6xp</td>\n",
       "      <td>seclifered</td>\n",
       "      <td>0</td>\n",
       "      <td>1.0</td>\n",
       "      <td>True</td>\n",
       "      <td>...</td>\n",
       "      <td>685.0</td>\n",
       "      <td></td>\n",
       "      <td>Local Gaza gangs are ‘robbing displaced Palest...</td>\n",
       "      <td>0.89</td>\n",
       "      <td>685</td>\n",
       "      <td>2024-03-19 13:25:00</td>\n",
       "      <td>local gaza gangs are robbing displaced palesti...</td>\n",
       "      <td>if only there was armed military force nearby ...</td>\n",
       "      <td>nan nan</td>\n",
       "      <td>if only there was armed military force nearby ...</td>\n",
       "    </tr>\n",
       "    <tr>\n",
       "      <th>2</th>\n",
       "      <td>2024-03-19 19:17:35</td>\n",
       "      <td>kvmenpq</td>\n",
       "      <td>1</td>\n",
       "      <td>Taliban created and funded by america and isis...</td>\n",
       "      <td>IsraelPalestine</td>\n",
       "      <td>1biqbsz</td>\n",
       "      <td>Accomplished_Mud6174</td>\n",
       "      <td>0</td>\n",
       "      <td>1.0</td>\n",
       "      <td>True</td>\n",
       "      <td>...</td>\n",
       "      <td>14.0</td>\n",
       "      <td>Most pro Palestine supporters who are not Arab...</td>\n",
       "      <td>Why is the West so concerned?</td>\n",
       "      <td>0.75</td>\n",
       "      <td>14</td>\n",
       "      <td>2024-03-19 17:45:08</td>\n",
       "      <td>why is west so concerned why is west so concerned</td>\n",
       "      <td>taliban created and funded by america and isis...</td>\n",
       "      <td>most pro palestine supporters who are not arab...</td>\n",
       "      <td>taliban created and funded by america and isis...</td>\n",
       "    </tr>\n",
       "    <tr>\n",
       "      <th>3</th>\n",
       "      <td>2024-03-19 19:17:25</td>\n",
       "      <td>kvmemm5</td>\n",
       "      <td>1</td>\n",
       "      <td>Recycling glass is still not economical or par...</td>\n",
       "      <td>worldnews</td>\n",
       "      <td>1biqh0j</td>\n",
       "      <td>lordraiden007</td>\n",
       "      <td>0</td>\n",
       "      <td>1.0</td>\n",
       "      <td>True</td>\n",
       "      <td>...</td>\n",
       "      <td>519.0</td>\n",
       "      <td></td>\n",
       "      <td>The plastic industry knowingly pushed recyclin...</td>\n",
       "      <td>0.97</td>\n",
       "      <td>519</td>\n",
       "      <td>2024-03-19 17:51:10</td>\n",
       "      <td>plastic industry knowingly pushed recycling my...</td>\n",
       "      <td>recycling glass is still economical or particu...</td>\n",
       "      <td>nan nan</td>\n",
       "      <td>recycling glass is still economical or particu...</td>\n",
       "    </tr>\n",
       "    <tr>\n",
       "      <th>4</th>\n",
       "      <td>2024-03-19 19:17:22</td>\n",
       "      <td>kvmem94</td>\n",
       "      <td>1</td>\n",
       "      <td>The two have a private direct communication li...</td>\n",
       "      <td>worldnews</td>\n",
       "      <td>1bis6xt</td>\n",
       "      <td>MajorTechnology8827</td>\n",
       "      <td>0</td>\n",
       "      <td>1.0</td>\n",
       "      <td>True</td>\n",
       "      <td>...</td>\n",
       "      <td>0.0</td>\n",
       "      <td></td>\n",
       "      <td>Biden privately told Netanyahu he's not trying...</td>\n",
       "      <td>0.5</td>\n",
       "      <td>0</td>\n",
       "      <td>2024-03-19 19:00:41</td>\n",
       "      <td>biden privately told netanyahu he not trying t...</td>\n",
       "      <td>two a private direct communication line if any...</td>\n",
       "      <td>nan nan</td>\n",
       "      <td>two a private direct communication line if any...</td>\n",
       "    </tr>\n",
       "  </tbody>\n",
       "</table>\n",
       "<p>5 rows × 26 columns</p>\n",
       "</div>"
      ],
      "text/plain": [
       "          created_time comment_id score  \\\n",
       "0  2024-03-19 19:18:08    kvmer6g     1   \n",
       "1  2024-03-19 19:17:51    kvmepe5     1   \n",
       "2  2024-03-19 19:17:35    kvmenpq     1   \n",
       "3  2024-03-19 19:17:25    kvmemm5     1   \n",
       "4  2024-03-19 19:17:22    kvmem94     1   \n",
       "\n",
       "                                           self_text        subreddit  \\\n",
       "0  What is this supposed to prove? That nobody in...  IsraelPalestine   \n",
       "1  If only there was an armed military force near...        worldnews   \n",
       "2  Taliban created and funded by america and isis...  IsraelPalestine   \n",
       "3  Recycling glass is still not economical or par...        worldnews   \n",
       "4  The two have a private direct communication li...        worldnews   \n",
       "\n",
       "   post_id           author_name controversiality  ups user_is_verified  ...  \\\n",
       "0  1biqebd           tinamnstrrr                0  1.0             True  ...   \n",
       "1  1bik6xp            seclifered                0  1.0             True  ...   \n",
       "2  1biqbsz  Accomplished_Mud6174                0  1.0             True  ...   \n",
       "3  1biqh0j         lordraiden007                0  1.0             True  ...   \n",
       "4  1bis6xt   MajorTechnology8827                0  1.0             True  ...   \n",
       "\n",
       "  post_score                                     post_self_text  \\\n",
       "0        0.0  So, Mr. Netanyahu, and supporters, are you goo...   \n",
       "1      685.0                                                      \n",
       "2       14.0  Most pro Palestine supporters who are not Arab...   \n",
       "3      519.0                                                      \n",
       "4        0.0                                                      \n",
       "\n",
       "                                          post_title post_upvote_ratio  \\\n",
       "0  article: Famine in northern Gaza is imminent a...              0.36   \n",
       "1  Local Gaza gangs are ‘robbing displaced Palest...              0.89   \n",
       "2                      Why is the West so concerned?              0.75   \n",
       "3  The plastic industry knowingly pushed recyclin...              0.97   \n",
       "4  Biden privately told Netanyahu he's not trying...               0.5   \n",
       "\n",
       "  post_thumbs_ups    post_created_time  \\\n",
       "0               0  2024-03-19 17:48:02   \n",
       "1             685  2024-03-19 13:25:00   \n",
       "2              14  2024-03-19 17:45:08   \n",
       "3             519  2024-03-19 17:51:10   \n",
       "4               0  2024-03-19 19:00:41   \n",
       "\n",
       "                                   post_title_tokens  \\\n",
       "0  article famine in northern gaza is imminent mo...   \n",
       "1  local gaza gangs are robbing displaced palesti...   \n",
       "2  why is west so concerned why is west so concerned   \n",
       "3  plastic industry knowingly pushed recycling my...   \n",
       "4  biden privately told netanyahu he not trying t...   \n",
       "\n",
       "                                    self_text_tokens  \\\n",
       "0  is supposed to prove nobody in gaza has any wa...   \n",
       "1  if only there was armed military force nearby ...   \n",
       "2  taliban created and funded by america and isis...   \n",
       "3  recycling glass is still economical or particu...   \n",
       "4  two a private direct communication line if any...   \n",
       "\n",
       "                               post_self_text_tokens  \\\n",
       "0  so netanyahu and supporters are you good with ...   \n",
       "1                                            nan nan   \n",
       "2  most pro palestine supporters who are not arab...   \n",
       "3                                            nan nan   \n",
       "4                                            nan nan   \n",
       "\n",
       "                                                text  \n",
       "0  is supposed to prove nobody in gaza has any wa...  \n",
       "1  if only there was armed military force nearby ...  \n",
       "2  taliban created and funded by america and isis...  \n",
       "3  recycling glass is still economical or particu...  \n",
       "4  two a private direct communication line if any...  \n",
       "\n",
       "[5 rows x 26 columns]"
      ]
     },
     "execution_count": 12,
     "metadata": {},
     "output_type": "execute_result"
    }
   ],
   "source": [
    "df.head()"
   ]
  },
  {
   "cell_type": "code",
   "execution_count": 13,
   "metadata": {},
   "outputs": [],
   "source": [
    "col_selected = ['created_time','post_created_time', 'subreddit','text']\n",
    "df = df[col_selected]"
   ]
  },
  {
   "cell_type": "code",
   "execution_count": 14,
   "metadata": {},
   "outputs": [
    {
     "data": {
      "text/html": [
       "<style type=\"text/css\">\n",
       "#T_87230_row0_col1 {\n",
       "  background-color: #081d58;\n",
       "  color: #f1f1f1;\n",
       "}\n",
       "#T_87230_row1_col1 {\n",
       "  background-color: #99d7b8;\n",
       "  color: #000000;\n",
       "}\n",
       "#T_87230_row2_col1 {\n",
       "  background-color: #ffffd9;\n",
       "  color: #000000;\n",
       "}\n",
       "</style>\n",
       "<table id=\"T_87230\">\n",
       "  <thead>\n",
       "    <tr>\n",
       "      <th class=\"blank level0\" >&nbsp;</th>\n",
       "      <th id=\"T_87230_level0_col0\" class=\"col_heading level0 col0\" >Post_Sentiment</th>\n",
       "      <th id=\"T_87230_level0_col1\" class=\"col_heading level0 col1\" >Count</th>\n",
       "    </tr>\n",
       "  </thead>\n",
       "  <tbody>\n",
       "    <tr>\n",
       "      <th id=\"T_87230_level0_row0\" class=\"row_heading level0 row0\" >0</th>\n",
       "      <td id=\"T_87230_row0_col0\" class=\"data row0 col0\" >Positive</td>\n",
       "      <td id=\"T_87230_row0_col1\" class=\"data row0 col1\" >604836</td>\n",
       "    </tr>\n",
       "    <tr>\n",
       "      <th id=\"T_87230_level0_row1\" class=\"row_heading level0 row1\" >1</th>\n",
       "      <td id=\"T_87230_row1_col0\" class=\"data row1 col0\" >Negative</td>\n",
       "      <td id=\"T_87230_row1_col1\" class=\"data row1 col1\" >313309</td>\n",
       "    </tr>\n",
       "    <tr>\n",
       "      <th id=\"T_87230_level0_row2\" class=\"row_heading level0 row2\" >2</th>\n",
       "      <td id=\"T_87230_row2_col0\" class=\"data row2 col0\" >Neutral</td>\n",
       "      <td id=\"T_87230_row2_col1\" class=\"data row2 col1\" >169692</td>\n",
       "    </tr>\n",
       "  </tbody>\n",
       "</table>\n"
      ],
      "text/plain": [
       "<pandas.io.formats.style.Styler at 0x6d0bb9cd0>"
      ]
     },
     "execution_count": 14,
     "metadata": {},
     "output_type": "execute_result"
    }
   ],
   "source": [
    "import pandas as pd\n",
    "from textblob import TextBlob\n",
    "\n",
    "# Apply TextBlob for sentiment analysis\n",
    "post_sentiment_scores = df['text'].apply(lambda x: TextBlob(str(x)).sentiment)\n",
    "\n",
    "# Extract polarity scores and subjectivity scores\n",
    "df['text_polarity'] = post_sentiment_scores.apply(lambda x: x.polarity)\n",
    "df['text_subjectivity'] = post_sentiment_scores.apply(lambda x: x.subjectivity)\n",
    "\n",
    "# Assign sentiment category based on sentiment score\n",
    "df['text_category'] = df['text_polarity'].apply(lambda x: 'Positive' if x > 0 else ('Negative' if x < 0 else 'Neutral'))\n",
    "\n",
    "# Count the occurrences of each sentiment category\n",
    "sentiment_counts = df['text_category'].value_counts()\n",
    "sentiment_counts_df = sentiment_counts.reset_index()\n",
    "sentiment_counts_df.columns = ['text_polarity', 'Count']\n",
    "sentiment_counts_df = sentiment_counts_df.sort_values(by='Count', ascending=False)\n",
    "sentiment_counts_df.style.background_gradient(cmap='YlGnBu')\n"
   ]
  },
  {
   "cell_type": "code",
   "execution_count": 15,
   "metadata": {},
   "outputs": [
    {
     "data": {
      "text/html": [
       "<style type=\"text/css\">\n",
       "#T_17df1_row0_col1 {\n",
       "  background-color: #081d58;\n",
       "  color: #f1f1f1;\n",
       "}\n",
       "#T_17df1_row1_col1 {\n",
       "  background-color: #99d7b8;\n",
       "  color: #000000;\n",
       "}\n",
       "#T_17df1_row2_col1 {\n",
       "  background-color: #ffffd9;\n",
       "  color: #000000;\n",
       "}\n",
       "</style>\n",
       "<table id=\"T_17df1\">\n",
       "  <thead>\n",
       "    <tr>\n",
       "      <th class=\"blank level0\" >&nbsp;</th>\n",
       "      <th id=\"T_17df1_level0_col0\" class=\"col_heading level0 col0\" >text_polarity</th>\n",
       "      <th id=\"T_17df1_level0_col1\" class=\"col_heading level0 col1\" >Count</th>\n",
       "    </tr>\n",
       "  </thead>\n",
       "  <tbody>\n",
       "    <tr>\n",
       "      <th id=\"T_17df1_level0_row0\" class=\"row_heading level0 row0\" >0</th>\n",
       "      <td id=\"T_17df1_row0_col0\" class=\"data row0 col0\" >Positive</td>\n",
       "      <td id=\"T_17df1_row0_col1\" class=\"data row0 col1\" >604836</td>\n",
       "    </tr>\n",
       "    <tr>\n",
       "      <th id=\"T_17df1_level0_row1\" class=\"row_heading level0 row1\" >1</th>\n",
       "      <td id=\"T_17df1_row1_col0\" class=\"data row1 col0\" >Negative</td>\n",
       "      <td id=\"T_17df1_row1_col1\" class=\"data row1 col1\" >313309</td>\n",
       "    </tr>\n",
       "    <tr>\n",
       "      <th id=\"T_17df1_level0_row2\" class=\"row_heading level0 row2\" >2</th>\n",
       "      <td id=\"T_17df1_row2_col0\" class=\"data row2 col0\" >Neutral</td>\n",
       "      <td id=\"T_17df1_row2_col1\" class=\"data row2 col1\" >169692</td>\n",
       "    </tr>\n",
       "  </tbody>\n",
       "</table>\n"
      ],
      "text/plain": [
       "<pandas.io.formats.style.Styler at 0x45f9c3f40>"
      ]
     },
     "execution_count": 15,
     "metadata": {},
     "output_type": "execute_result"
    }
   ],
   "source": [
    "sentiment_counts_df.columns = ['text_polarity', 'Count']\n",
    "sentiment_counts_df = sentiment_counts_df.sort_values(by='Count', ascending=False)\n",
    "sentiment_counts_df.style.background_gradient(cmap='YlGnBu')"
   ]
  },
  {
   "cell_type": "code",
   "execution_count": 29,
   "metadata": {},
   "outputs": [],
   "source": [
    "df.to_csv('Senti_Pre_Processed.csv', index=False)"
   ]
  },
  {
   "cell_type": "code",
   "execution_count": 27,
   "metadata": {},
   "outputs": [
    {
     "name": "stderr",
     "output_type": "stream",
     "text": [
      "Python(13467) MallocStackLogging: can't turn off malloc stack logging because it was not enabled.\n"
     ]
    },
    {
     "name": "stdout",
     "output_type": "stream",
     "text": [
      "Defaulting to user installation because normal site-packages is not writeable\n",
      "Requirement already satisfied: nbformat in /Users/arafathjazeeb/Library/Python/3.9/lib/python/site-packages (5.10.4)\n",
      "Requirement already satisfied: fastjsonschema>=2.15 in /Users/arafathjazeeb/Library/Python/3.9/lib/python/site-packages (from nbformat) (2.19.1)\n",
      "Requirement already satisfied: jsonschema>=2.6 in /Users/arafathjazeeb/Library/Python/3.9/lib/python/site-packages (from nbformat) (4.21.1)\n",
      "Requirement already satisfied: jupyter-core!=5.0.*,>=4.12 in /Users/arafathjazeeb/Library/Python/3.9/lib/python/site-packages (from nbformat) (5.7.1)\n",
      "Requirement already satisfied: traitlets>=5.1 in /Users/arafathjazeeb/Library/Python/3.9/lib/python/site-packages (from nbformat) (5.14.1)\n",
      "Requirement already satisfied: attrs>=22.2.0 in /Users/arafathjazeeb/Library/Python/3.9/lib/python/site-packages (from jsonschema>=2.6->nbformat) (23.2.0)\n",
      "Requirement already satisfied: jsonschema-specifications>=2023.03.6 in /Users/arafathjazeeb/Library/Python/3.9/lib/python/site-packages (from jsonschema>=2.6->nbformat) (2023.12.1)\n",
      "Requirement already satisfied: referencing>=0.28.4 in /Users/arafathjazeeb/Library/Python/3.9/lib/python/site-packages (from jsonschema>=2.6->nbformat) (0.34.0)\n",
      "Requirement already satisfied: rpds-py>=0.7.1 in /Users/arafathjazeeb/Library/Python/3.9/lib/python/site-packages (from jsonschema>=2.6->nbformat) (0.18.0)\n",
      "Requirement already satisfied: platformdirs>=2.5 in /Users/arafathjazeeb/Library/Python/3.9/lib/python/site-packages (from jupyter-core!=5.0.*,>=4.12->nbformat) (4.1.0)\n",
      "Note: you may need to restart the kernel to use updated packages.\n"
     ]
    }
   ],
   "source": [
    "pip install --upgrade nbformat"
   ]
  }
 ],
 "metadata": {
  "kernelspec": {
   "display_name": "Python 3",
   "language": "python",
   "name": "python3"
  },
  "language_info": {
   "codemirror_mode": {
    "name": "ipython",
    "version": 3
   },
   "file_extension": ".py",
   "mimetype": "text/x-python",
   "name": "python",
   "nbconvert_exporter": "python",
   "pygments_lexer": "ipython3",
   "version": "3.9.6"
  }
 },
 "nbformat": 4,
 "nbformat_minor": 2
}
