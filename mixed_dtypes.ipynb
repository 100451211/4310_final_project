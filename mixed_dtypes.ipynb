{
 "cells": [
  {
   "cell_type": "code",
   "execution_count": 2,
   "metadata": {},
   "outputs": [],
   "source": [
    "import re\n",
    "import csv\n",
    "import torch\n",
    "import numpy as np\n",
    "import pandas as pd\n",
    "from datetime import datetime\n",
    "from torch.utils.data import Dataset, DataLoader\n",
    "from transformers import RobertaTokenizer, RobertaForSequenceClassification\n"
   ]
  },
  {
   "cell_type": "markdown",
   "metadata": {},
   "source": [
    "# 0. Fix mixed datatypes in pd.DataFrame\n"
   ]
  },
  {
   "cell_type": "code",
   "execution_count": 24,
   "metadata": {},
   "outputs": [
    {
     "name": "stdout",
     "output_type": "stream",
     "text": [
      "Choosing columns...\n",
      " ['created_time', 'self_text', 'post_self_text', 'post_title', 'post_created_time']\n"
     ]
    }
   ],
   "source": [
    "# 1. Choose columns we are interested in and state expected \n",
    "dict_cols = {'self_text': str, 'created_time': 'datetime[ns]', 'post_self_text': str, 'post_title': str, 'post_created_time': 'datetime[ns]'}\n",
    "\n",
    "# 2. Open the file and read data\n",
    "file = \"pre_processed.csv\"\n",
    "df = pd.read_csv(file, usecols=list(dict_cols.keys())) \n",
    "print(f\"Choosing columns...\\n {list(df.columns)}\")"
   ]
  },
  {
   "cell_type": "code",
   "execution_count": 25,
   "metadata": {},
   "outputs": [
    {
     "name": "stdout",
     "output_type": "stream",
     "text": [
      "Before Columns with mixed types: [('self_text', {<class 'str'>, <class 'float'>}), ('post_self_text', {<class 'str'>, <class 'float'>}), ('post_title', {<class 'str'>, <class 'float'>}), ('post_created_time', {<class 'str'>, <class 'float'>})]\n"
     ]
    }
   ],
   "source": [
    "# 3. Verify if columns have mixed types\n",
    "def find_mixed_type_columns(dataframe):\n",
    "    mixed_type_columns = []\n",
    "    for column in dataframe.columns:\n",
    "        # Use a set to track unique types in the column\n",
    "        types = set()\n",
    "        for v in dataframe[column]:\n",
    "            types.add(type(v))  # Add the type of each element to the set\n",
    "        if len(types)>1:\n",
    "            mixed_type_columns.append((column, types))\n",
    "    return mixed_type_columns\n",
    "    \n",
    "mixed_one = find_mixed_type_columns(df)\n",
    "print(\"Before Columns with mixed types:\", mixed_one)\n",
    "# ## [('self_text', {<class 'str'>, <class 'float'>}), ('post_self_text', {<class 'str'>, <class 'float'>}), \n",
    "# ## ('post_title', {<class 'str'>, <class 'float'>}), ('post_created_time', {<class 'str'>, <class 'float'>})]"
   ]
  },
  {
   "cell_type": "code",
   "execution_count": 26,
   "metadata": {},
   "outputs": [
    {
     "name": "stdout",
     "output_type": "stream",
     "text": [
      "\n",
      "Final Columns with mixed types: []\n"
     ]
    }
   ],
   "source": [
    "# 4. Fix mixed types\n",
    "df.replace('nan', pd.NA, inplace=True)\n",
    "df['post_created_time'] = pd.to_datetime(df['post_created_time'], errors='coerce')\n",
    "df['created_time'] = pd.to_datetime(df['created_time'], errors='coerce')\n",
    "\n",
    "text_columns = ['self_text', 'post_self_text', 'post_title']\n",
    "for col in text_columns:\n",
    "    df[col] = df[col].fillna('')\n",
    "\n",
    "# Drop rows where any of the specified columns have NaN/NaT values\n",
    "df.dropna(subset=text_columns + ['post_created_time'], inplace=True)\n",
    "\n",
    "# Verify the changes\n",
    "mixed_final = find_mixed_type_columns(df)\n",
    "print(\"\\nFinal Columns with mixed types:\", mixed_final)"
   ]
  },
  {
   "cell_type": "code",
   "execution_count": 28,
   "metadata": {},
   "outputs": [
    {
     "data": {
      "text/html": [
       "<div>\n",
       "<style scoped>\n",
       "    .dataframe tbody tr th:only-of-type {\n",
       "        vertical-align: middle;\n",
       "    }\n",
       "\n",
       "    .dataframe tbody tr th {\n",
       "        vertical-align: top;\n",
       "    }\n",
       "\n",
       "    .dataframe thead th {\n",
       "        text-align: right;\n",
       "    }\n",
       "</style>\n",
       "<table border=\"1\" class=\"dataframe\">\n",
       "  <thead>\n",
       "    <tr style=\"text-align: right;\">\n",
       "      <th></th>\n",
       "      <th>created_time</th>\n",
       "      <th>self_text</th>\n",
       "      <th>post_self_text</th>\n",
       "      <th>post_title</th>\n",
       "      <th>post_created_time</th>\n",
       "    </tr>\n",
       "  </thead>\n",
       "  <tbody>\n",
       "    <tr>\n",
       "      <th>0</th>\n",
       "      <td>2024-03-19 19:18:08</td>\n",
       "      <td>What is this supposed to prove? That nobody in...</td>\n",
       "      <td>So, Mr. Netanyahu, and supporters, are you goo...</td>\n",
       "      <td>article: Famine in northern Gaza is imminent a...</td>\n",
       "      <td>2024-03-19 17:48:02</td>\n",
       "    </tr>\n",
       "    <tr>\n",
       "      <th>1</th>\n",
       "      <td>2024-03-19 19:17:51</td>\n",
       "      <td>If only there was an armed military force near...</td>\n",
       "      <td></td>\n",
       "      <td>Local Gaza gangs are ‘robbing displaced Palest...</td>\n",
       "      <td>2024-03-19 13:25:00</td>\n",
       "    </tr>\n",
       "    <tr>\n",
       "      <th>2</th>\n",
       "      <td>2024-03-19 19:17:35</td>\n",
       "      <td>Taliban created and funded by america and isis...</td>\n",
       "      <td>Most pro Palestine supporters who are not Arab...</td>\n",
       "      <td>Why is the West so concerned?</td>\n",
       "      <td>2024-03-19 17:45:08</td>\n",
       "    </tr>\n",
       "    <tr>\n",
       "      <th>3</th>\n",
       "      <td>2024-03-19 19:17:25</td>\n",
       "      <td>Recycling glass is still not economical or par...</td>\n",
       "      <td></td>\n",
       "      <td>The plastic industry knowingly pushed recyclin...</td>\n",
       "      <td>2024-03-19 17:51:10</td>\n",
       "    </tr>\n",
       "    <tr>\n",
       "      <th>4</th>\n",
       "      <td>2024-03-19 19:17:22</td>\n",
       "      <td>The two have a private direct communication li...</td>\n",
       "      <td></td>\n",
       "      <td>Biden privately told Netanyahu he's not trying...</td>\n",
       "      <td>2024-03-19 19:00:41</td>\n",
       "    </tr>\n",
       "  </tbody>\n",
       "</table>\n",
       "</div>"
      ],
      "text/plain": [
       "         created_time                                          self_text  \\\n",
       "0 2024-03-19 19:18:08  What is this supposed to prove? That nobody in...   \n",
       "1 2024-03-19 19:17:51  If only there was an armed military force near...   \n",
       "2 2024-03-19 19:17:35  Taliban created and funded by america and isis...   \n",
       "3 2024-03-19 19:17:25  Recycling glass is still not economical or par...   \n",
       "4 2024-03-19 19:17:22  The two have a private direct communication li...   \n",
       "\n",
       "                                      post_self_text  \\\n",
       "0  So, Mr. Netanyahu, and supporters, are you goo...   \n",
       "1                                                      \n",
       "2  Most pro Palestine supporters who are not Arab...   \n",
       "3                                                      \n",
       "4                                                      \n",
       "\n",
       "                                          post_title   post_created_time  \n",
       "0  article: Famine in northern Gaza is imminent a... 2024-03-19 17:48:02  \n",
       "1  Local Gaza gangs are ‘robbing displaced Palest... 2024-03-19 13:25:00  \n",
       "2                      Why is the West so concerned? 2024-03-19 17:45:08  \n",
       "3  The plastic industry knowingly pushed recyclin... 2024-03-19 17:51:10  \n",
       "4  Biden privately told Netanyahu he's not trying... 2024-03-19 19:00:41  "
      ]
     },
     "execution_count": 28,
     "metadata": {},
     "output_type": "execute_result"
    }
   ],
   "source": [
    "df\n",
    "df.head()\n",
    "\n",
    "df.to_csv('final_data.csv', index=False)"
   ]
  }
 ],
 "metadata": {
  "kernelspec": {
   "display_name": "Python 3.11.7 64-bit",
   "language": "python",
   "name": "python3"
  },
  "language_info": {
   "codemirror_mode": {
    "name": "ipython",
    "version": 3
   },
   "file_extension": ".py",
   "mimetype": "text/x-python",
   "name": "python",
   "nbconvert_exporter": "python",
   "pygments_lexer": "ipython3",
   "version": "3.11.7"
  },
  "orig_nbformat": 4,
  "vscode": {
   "interpreter": {
    "hash": "b0fa6594d8f4cbf19f97940f81e996739fb7646882a419484c72d19e05852a7e"
   }
  }
 },
 "nbformat": 4,
 "nbformat_minor": 2
}
